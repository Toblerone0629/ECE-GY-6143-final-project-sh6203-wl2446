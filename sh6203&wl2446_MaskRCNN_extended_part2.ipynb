{
 "cells": [
  {
   "cell_type": "markdown",
   "metadata": {
    "id": "9FZrzBIazgqm"
   },
   "source": [
    "# Detectron Mask R-CNN extended part2\n",
    "# Name: Shengwei Huang, Wentai Liu\n",
    "# Net Id: sh6203, wl2446\n",
    "\n",
    "This is a [Mask R-CNN](https://arxiv.org/abs/1703.06870) colab notebook using [facebookresearch/Detectron](https://github.com/facebookresearch/Detectron).\n",
    "\n",
    "\n",
    "For other deep-learning Colab notebooks, visit [tugstugi/dl-colab-notebooks](https://github.com/tugstugi/dl-colab-notebooks).\n",
    "\n",
    "\n",
    "## Install Detectron"
   ]
  },
  {
   "cell_type": "code",
   "execution_count": null,
   "metadata": {
    "colab": {
     "base_uri": "https://localhost:8080/"
    },
    "id": "tsAkdXVP99NC",
    "outputId": "d143fe16-6335-4ea0-cb43-9c705958cc29"
   },
   "outputs": [],
   "source": [
    "import os\n",
    "from os.path import exists, join, basename, splitext\n",
    "\n",
    "git_repo_url = 'https://github.com/facebookresearch/Detectron.git'\n",
    "project_name = splitext(basename(git_repo_url))[0]\n",
    "if not exists(project_name):\n",
    "  # clone\n",
    "  !git clone -q --depth 1 $git_repo_url\n",
    "  # dependencies\n",
    "  !cd $project_name && pip install -q -r requirements.txt\n",
    "  # build\n",
    "  !cd $project_name && make\n",
    "# test Detectron\n",
    "!python $project_name/detectron/tests/test_spatial_narrow_as_op.py \n",
    "\n",
    "import sys\n",
    "sys.path.append(project_name)\n",
    "import time\n",
    "import matplotlib\n",
    "import matplotlib.pylab as plt\n",
    "plt.rcParams[\"axes.grid\"] = False\n",
    "\n",
    "from IPython.display import clear_output"
   ]
  },
  {
   "cell_type": "code",
   "execution_count": null,
   "metadata": {
    "colab": {
     "base_uri": "https://localhost:8080/",
     "height": 341
    },
    "id": "JKi5FcaJnj59",
    "outputId": "7cd6227c-3884-46c4-f7f2-86b2393b9791"
   },
   "outputs": [],
   "source": [
    "IMAGE_URL = 'https://raw.githubusercontent.com/sh6203/MLfinalprojectPic/main/BKmuseum.jpg'\n",
    "\n",
    "image_file = basename(IMAGE_URL)\n",
    "image_file_ext = splitext(image_file)[1][1:]\n",
    "images_dir = 'images'\n",
    "!mkdir -p $images_dir && rm -rf $images_dir/*\n",
    "!wget -q -O $images_dir/$image_file $IMAGE_URL\n",
    "\n",
    "plt.figure(figsize=(10, 5))\n",
    "plt.imshow(matplotlib.image.imread(join(images_dir, image_file)))"
   ]
  },
  {
   "cell_type": "markdown",
   "metadata": {
    "id": "6B2Nx3CO4SS7"
   },
   "source": [
    "#mask rcnn X model"
   ]
  },
  {
   "cell_type": "code",
   "execution_count": null,
   "metadata": {
    "colab": {
     "base_uri": "https://localhost:8080/"
    },
    "id": "4HF0frVf_asn",
    "outputId": "c65f7be5-84e8-45c1-d1ed-8767b412b329"
   },
   "outputs": [],
   "source": [
    "#mask rcnn X model\n",
    "MODEL_CFG = 'e2e_mask_rcnn_X-101-64x4d-FPN_1x.yaml'\n",
    "PRETRAINED_MODEL_URL = 'https://dl.fbaipublicfiles.com/detectron/36494496/12_2017_baselines/e2e_mask_rcnn_X-101-64x4d-FPN_1x.yaml.07_50_11.fkwVtEvg/output/train/coco_2014_train%3Acoco_2014_valminusminival/generalized_rcnn/model_final.pkl'\n",
    "# X-152-32x8d-FPN-IN5k -> OUT OF MEMORY ON COLAB!\n",
    "# MODEL_CFG = 'e2e_mask_rcnn_X-152-32x8d-FPN-IN5k_1.44x.yaml'\n",
    "# PRETRAINED_MODEL_URL = 'https://dl.fbaipublicfiles.com/detectron/37129812/12_2017_baselines/e2e_mask_rcnn_X-152-32x8d-FPN-IN5k_1.44x.yaml.09_35_36.8pzTQKYK/output/train/coco_2014_train%3Acoco_2014_valminusminival/generalized_rcnn/model_final.pkl'\n",
    "\n",
    "!cd $project_name && python tools/infer_simple.py \\\n",
    "    --cfg configs/12_2017_baselines/$MODEL_CFG \\\n",
    "    --wts $PRETRAINED_MODEL_URL \\\n",
    "    --thresh 0.7 \\\n",
    "    --output-dir ../output/maskrcnnXmodel/ --output-ext png --always-out \\\n",
    "    --image-ext $image_file_ext \\\n",
    "    ../$images_dir"
   ]
  },
  {
   "cell_type": "markdown",
   "metadata": {
    "id": "L2Ygs07w4Vhf"
   },
   "source": [
    "#mask rcnn R model"
   ]
  },
  {
   "cell_type": "code",
   "execution_count": null,
   "metadata": {
    "colab": {
     "base_uri": "https://localhost:8080/"
    },
    "id": "yhWeQRUETS9l",
    "outputId": "6aa1aa11-844e-4bc3-edf3-e0dfde9f34e5"
   },
   "outputs": [],
   "source": [
    "#mask rcnn R model\n",
    "MODEL_CFG = 'e2e_mask_rcnn_R-101-FPN_1x.yaml'\n",
    "PRETRAINED_MODEL_URL = 'https://dl.fbaipublicfiles.com/detectron/35861795/12_2017_baselines/e2e_mask_rcnn_R-101-FPN_1x.yaml.02_31_37.KqyEK4tT/output/train/coco_2014_train%3Acoco_2014_valminusminival/generalized_rcnn/model_final.pkl'\n",
    "\n",
    "!cd $project_name && python tools/infer_simple.py \\\n",
    "    --cfg configs/12_2017_baselines/$MODEL_CFG \\\n",
    "    --wts $PRETRAINED_MODEL_URL \\\n",
    "    --thresh 0.7 \\\n",
    "    --output-dir ../output/maskrcnnRmodel/ --output-ext png --always-out \\\n",
    "    --image-ext $image_file_ext \\\n",
    "    ../$images_dir"
   ]
  },
  {
   "cell_type": "markdown",
   "metadata": {
    "id": "sYqb6z2B4YUm"
   },
   "source": [
    "#keypoint rcnn X model"
   ]
  },
  {
   "cell_type": "code",
   "execution_count": null,
   "metadata": {
    "colab": {
     "base_uri": "https://localhost:8080/"
    },
    "id": "XFQCMiRtj7T6",
    "outputId": "640972ec-c539-48dd-cb6c-435033b1b838"
   },
   "outputs": [],
   "source": [
    "#keypoint rcnn X model\n",
    "MODEL_CFG = 'e2e_keypoint_rcnn_X-101-64x4d-FPN_1x.yaml'\n",
    "PRETRAINED_MODEL_URL = 'https://dl.fbaipublicfiles.com/detectron/37732355/12_2017_baselines/e2e_keypoint_rcnn_X-101-64x4d-FPN_1x.yaml.16_56_16.yv4t4W8N/output/train/keypoints_coco_2014_train%3Akeypoints_coco_2014_valminusminival/generalized_rcnn/model_final.pkl'\n",
    "\n",
    "!cd $project_name && python tools/infer_simple.py \\\n",
    "    --cfg configs/12_2017_baselines/$MODEL_CFG \\\n",
    "    --wts $PRETRAINED_MODEL_URL \\\n",
    "    --thresh 0.7 \\\n",
    "    --output-dir ../output/keypointrcnnXmodel/ --output-ext png --always-out \\\n",
    "    --image-ext $image_file_ext \\\n",
    "    ../$images_dir"
   ]
  },
  {
   "cell_type": "markdown",
   "metadata": {
    "id": "qYnQq5yY4avO"
   },
   "source": [
    "#keypoint rcnn R model"
   ]
  },
  {
   "cell_type": "code",
   "execution_count": null,
   "metadata": {
    "colab": {
     "base_uri": "https://localhost:8080/"
    },
    "id": "qWSJR0jbnNzK",
    "outputId": "550575d4-701b-4c37-d9b6-328a30a636be"
   },
   "outputs": [],
   "source": [
    "#keypoint rcnn R model\n",
    "MODEL_CFG = 'e2e_keypoint_rcnn_R-101-FPN_1x.yaml'\n",
    "PRETRAINED_MODEL_URL = 'https://dl.fbaipublicfiles.com/detectron/37697946/12_2017_baselines/e2e_keypoint_rcnn_R-101-FPN_1x.yaml.08_45_06.Y14KqbST/output/train/keypoints_coco_2014_train%3Akeypoints_coco_2014_valminusminival/generalized_rcnn/model_final.pkl'\n",
    "\n",
    "!cd $project_name && python tools/infer_simple.py \\\n",
    "    --cfg configs/12_2017_baselines/$MODEL_CFG \\\n",
    "    --wts $PRETRAINED_MODEL_URL \\\n",
    "    --thresh 0.7 \\\n",
    "    --output-dir ../output/keypointrcnnRmodel/ --output-ext png --always-out \\\n",
    "    --image-ext $image_file_ext \\\n",
    "    ../$images_dir"
   ]
  },
  {
   "cell_type": "markdown",
   "metadata": {
    "id": "YOfx4NWg4egw"
   },
   "source": [
    "#faster rcnn X model"
   ]
  },
  {
   "cell_type": "code",
   "execution_count": null,
   "metadata": {
    "colab": {
     "base_uri": "https://localhost:8080/"
    },
    "id": "3GcYWES3oVRg",
    "outputId": "20919ef7-a5fd-4c34-e586-b366e4649896"
   },
   "outputs": [],
   "source": [
    "#faster rcnn X model\n",
    "MODEL_CFG = 'e2e_faster_rcnn_X-101-64x4d-FPN_1x.yaml'\n",
    "PRETRAINED_MODEL_URL = 'https://dl.fbaipublicfiles.com/detectron/35858015/12_2017_baselines/e2e_faster_rcnn_X-101-64x4d-FPN_1x.yaml.01_40_54.1xc565DE/output/train/coco_2014_train%3Acoco_2014_valminusminival/generalized_rcnn/model_final.pkl'\n",
    "\n",
    "!cd $project_name && python tools/infer_simple.py \\\n",
    "    --cfg configs/12_2017_baselines/$MODEL_CFG \\\n",
    "    --wts $PRETRAINED_MODEL_URL \\\n",
    "    --thresh 0.7 \\\n",
    "    --output-dir ../output/fasterrcnnXmodel/ --output-ext png --always-out \\\n",
    "    --image-ext $image_file_ext \\\n",
    "    ../$images_dir"
   ]
  },
  {
   "cell_type": "markdown",
   "metadata": {
    "id": "r1BkzATm4jpn"
   },
   "source": [
    "#faster rcnn R model"
   ]
  },
  {
   "cell_type": "code",
   "execution_count": null,
   "metadata": {
    "colab": {
     "base_uri": "https://localhost:8080/"
    },
    "id": "eRo3qIp7sNZo",
    "outputId": "a6e9ac77-4ccb-4486-9094-14d5e5da22da"
   },
   "outputs": [],
   "source": [
    "#faster rcnn R model\n",
    "MODEL_CFG = 'e2e_faster_rcnn_R-101-FPN_1x.yaml'\n",
    "PRETRAINED_MODEL_URL = 'https://dl.fbaipublicfiles.com/detectron/35857890/12_2017_baselines/e2e_faster_rcnn_R-101-FPN_1x.yaml.01_38_50.sNxI7sX7/output/train/coco_2014_train%3Acoco_2014_valminusminival/generalized_rcnn/model_final.pkl'\n",
    "\n",
    "!cd $project_name && python tools/infer_simple.py \\\n",
    "    --cfg configs/12_2017_baselines/$MODEL_CFG \\\n",
    "    --wts $PRETRAINED_MODEL_URL \\\n",
    "    --thresh 0.7 \\\n",
    "    --output-dir ../output/fasterrcnnRmodel/ --output-ext png --always-out \\\n",
    "    --image-ext $image_file_ext \\\n",
    "    ../$images_dir"
   ]
  },
  {
   "cell_type": "markdown",
   "metadata": {
    "id": "4QNvl-M5wGWq"
   },
   "source": [
    "Now visualize the result:"
   ]
  },
  {
   "cell_type": "markdown",
   "metadata": {
    "id": "KXM2Y_cV4r-G"
   },
   "source": [
    "#mask rcnn X:"
   ]
  },
  {
   "cell_type": "code",
   "execution_count": null,
   "metadata": {
    "colab": {
     "base_uri": "https://localhost:8080/",
     "height": 958
    },
    "id": "gExDmnjK_pPs",
    "outputId": "2610b75c-2c1e-4ade-f8c8-2f0609d62db1"
   },
   "outputs": [],
   "source": [
    "#show mask rcnn X graph\n",
    "plt.figure(figsize=(50, 50))\n",
    "plt.imshow(matplotlib.image.imread('output/maskrcnnXmodel/%s.png' % image_file))"
   ]
  },
  {
   "cell_type": "markdown",
   "metadata": {
    "id": "nZUdAKrt4zbK"
   },
   "source": [
    "#mask rcnn R:"
   ]
  },
  {
   "cell_type": "code",
   "execution_count": null,
   "metadata": {
    "colab": {
     "base_uri": "https://localhost:8080/",
     "height": 958
    },
    "id": "QNgAKam5gLmK",
    "outputId": "5e24c5d3-5687-477e-9b53-57cff27502ac"
   },
   "outputs": [],
   "source": [
    "#show mask rcnn R graph\n",
    "plt.figure(figsize=(50, 50))\n",
    "plt.imshow(matplotlib.image.imread('output/maskrcnnRmodel/%s.png' % image_file))"
   ]
  },
  {
   "cell_type": "markdown",
   "metadata": {
    "id": "kXnpH6fK45BW"
   },
   "source": [
    "#keypoint rcnn X:"
   ]
  },
  {
   "cell_type": "code",
   "execution_count": null,
   "metadata": {
    "colab": {
     "base_uri": "https://localhost:8080/",
     "height": 958
    },
    "id": "iocf_RuTmjZm",
    "outputId": "93683af5-fde9-4c2f-9c19-abcf19fda830"
   },
   "outputs": [],
   "source": [
    "#show keypoint rcnn X graph\n",
    "plt.figure(figsize=(50, 50))\n",
    "plt.imshow(matplotlib.image.imread('output/keypointrcnnXmodel/%s.png' % image_file))"
   ]
  },
  {
   "cell_type": "markdown",
   "metadata": {
    "id": "fwg8cp2x47kF"
   },
   "source": [
    "#keypoint rcnn R:"
   ]
  },
  {
   "cell_type": "code",
   "execution_count": null,
   "metadata": {
    "colab": {
     "base_uri": "https://localhost:8080/",
     "height": 958
    },
    "id": "L8g1O7P3oCvT",
    "outputId": "93a288c1-a677-40ed-b687-d880f723d768"
   },
   "outputs": [],
   "source": [
    "#show keypoint rcnn R graph\n",
    "plt.figure(figsize=(50, 50))\n",
    "plt.imshow(matplotlib.image.imread('output/keypointrcnnRmodel/%s.png' % image_file))"
   ]
  },
  {
   "cell_type": "markdown",
   "metadata": {
    "id": "tg1f2PFV4_lq"
   },
   "source": [
    "#faster rcnn X:"
   ]
  },
  {
   "cell_type": "code",
   "execution_count": null,
   "metadata": {
    "colab": {
     "base_uri": "https://localhost:8080/",
     "height": 958
    },
    "id": "tA0UFDgqroW7",
    "outputId": "ca3fb568-f9b5-48ff-f65c-c10fb0f3b2a3"
   },
   "outputs": [],
   "source": [
    "#show faster rcnn X graph\n",
    "plt.figure(figsize=(50, 50))\n",
    "plt.imshow(matplotlib.image.imread('output/fasterrcnnXmodel/%s.png' % image_file))"
   ]
  },
  {
   "cell_type": "markdown",
   "metadata": {
    "id": "fTwniQA55ByE"
   },
   "source": [
    "#faster rcnn R:"
   ]
  },
  {
   "cell_type": "code",
   "execution_count": null,
   "metadata": {
    "colab": {
     "base_uri": "https://localhost:8080/",
     "height": 958
    },
    "id": "pVU3ObaSstl9",
    "outputId": "6158671d-29a4-4859-af53-09a13eb31772"
   },
   "outputs": [],
   "source": [
    "#show faster rcnn R graph\n",
    "plt.figure(figsize=(50, 50))\n",
    "plt.imshow(matplotlib.image.imread('output/fasterrcnnRmodel/%s.png' % image_file))"
   ]
  },
  {
   "cell_type": "markdown",
   "metadata": {
    "id": "9EXwFXoX2n5u"
   },
   "source": [
    "#Citation\n",
    "1. https://github.com/tugstugi/dl-colab-notebooks\n",
    "2. https://github.com/facebookresearch/Detectron\n",
    "3. https://github.com/facebookresearch/Detectron/tree/main/configs/12_2017_baselines\n",
    "4. https://github.com/facebookresearch/Detectron/blob/main/MODEL_ZOO.md\n",
    "5. https://arxiv.org/abs/1703.06870\n",
    "6. https://arxiv.org/pdf/1703.06870.pdf\n",
    "7. https://www.igi-global.com/dictionary/region-of-interest/24858\n"
   ]
  }
 ],
 "metadata": {
  "accelerator": "GPU",
  "colab": {
   "collapsed_sections": [],
   "name": "sh6203&wl2446_MaskRCNN_extended_part2.ipynb",
   "provenance": []
  },
  "kernelspec": {
   "display_name": "Python 3 (ipykernel)",
   "language": "python",
   "name": "python3"
  },
  "language_info": {
   "codemirror_mode": {
    "name": "ipython",
    "version": 3
   },
   "file_extension": ".py",
   "mimetype": "text/x-python",
   "name": "python",
   "nbconvert_exporter": "python",
   "pygments_lexer": "ipython3",
   "version": "3.7.9"
  }
 },
 "nbformat": 4,
 "nbformat_minor": 1
}
