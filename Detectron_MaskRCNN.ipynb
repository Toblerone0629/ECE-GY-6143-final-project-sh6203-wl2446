{
 "cells": [
  {
   "cell_type": "markdown",
   "metadata": {
    "id": "9FZrzBIazgqm"
   },
   "source": [
    "# Detectron Mask R-CNN Demo\n",
    "\n",
    "This is a [Mask R-CNN](https://arxiv.org/abs/1703.06870) colab notebook using [facebookresearch/Detectron](https://github.com/facebookresearch/Detectron).\n",
    "\n",
    "\n",
    "For other deep-learning Colab notebooks, visit [tugstugi/dl-colab-notebooks](https://github.com/tugstugi/dl-colab-notebooks).\n",
    "\n",
    "\n",
    "## Install Detectron"
   ]
  },
  {
   "cell_type": "code",
   "execution_count": null,
   "metadata": {
    "colab": {
     "base_uri": "https://localhost:8080/",
     "height": 0
    },
    "id": "tsAkdXVP99NC",
    "outputId": "ae85214f-64d2-40f8-b0ab-9a3a06220cc2"
   },
   "outputs": [],
   "source": [
    "import os\n",
    "from os.path import exists, join, basename, splitext\n",
    "\n",
    "git_repo_url = 'https://github.com/facebookresearch/Detectron.git'\n",
    "project_name = splitext(basename(git_repo_url))[0]\n",
    "if not exists(project_name):\n",
    "  # clone\n",
    "  !git clone -q --depth 1 $git_repo_url\n",
    "  # dependencies\n",
    "  !cd $project_name && pip install -q -r requirements.txt\n",
    "  # build\n",
    "  !cd $project_name && make\n",
    "# test Detectron\n",
    "!python $project_name/detectron/tests/test_spatial_narrow_as_op.py \n",
    "\n",
    "import sys\n",
    "sys.path.append(project_name)\n",
    "import time\n",
    "import matplotlib\n",
    "import matplotlib.pylab as plt\n",
    "plt.rcParams[\"axes.grid\"] = False\n",
    "\n",
    "from IPython.display import clear_output"
   ]
  },
  {
   "cell_type": "markdown",
   "metadata": {
    "id": "voYnFpAY0jPU"
   },
   "source": [
    "## Evaluate on a test image\n",
    "\n",
    "First, download a test image from the internet:"
   ]
  },
  {
   "cell_type": "code",
   "execution_count": null,
   "metadata": {
    "colab": {
     "base_uri": "https://localhost:8080/",
     "height": 341
    },
    "id": "JKi5FcaJnj59",
    "outputId": "11642a65-026c-4b9d-d23f-5c67dc834569"
   },
   "outputs": [],
   "source": [
    "IMAGE_URL = 'https://raw.githubusercontent.com/tugstugi/dl-colab-notebooks/master/resources/traffic_camera.jpg'\n",
    "#IMAGE_URL = 'https://raw.githubusercontent.com/sh6203/MLfinalprojectPic/main/SohoStreet.jpg'\n",
    "\n",
    "image_file = basename(IMAGE_URL)\n",
    "image_file_ext = splitext(image_file)[1][1:]\n",
    "images_dir = 'images'\n",
    "!mkdir -p $images_dir && rm -rf $images_dir/*\n",
    "!wget -q -O $images_dir/$image_file $IMAGE_URL\n",
    "\n",
    "plt.figure(figsize=(10, 5))\n",
    "plt.imshow(matplotlib.image.imread(join(images_dir, image_file)))"
   ]
  },
  {
   "cell_type": "markdown",
   "metadata": {
    "id": "8EeiDA_NnkhH"
   },
   "source": [
    "According to [Detectron/MODEL_ZOO.md](https://github.com/facebookresearch/Detectron/blob/master/MODEL_ZOO.md#end-to-end-faster--mask-r-cnn-baselines), the Mask R-CNN model `X-101-64x4d-FPN` has Box mAP 42.4 and Mask mAP 37.5 on the COCO dataset. We will use this model and evaluate on the above downloaded image:"
   ]
  },
  {
   "cell_type": "code",
   "execution_count": null,
   "metadata": {
    "colab": {
     "base_uri": "https://localhost:8080/",
     "height": 0
    },
    "id": "4HF0frVf_asn",
    "outputId": "dbeb4cdf-6b17-4be7-c053-7875f062daa4"
   },
   "outputs": [],
   "source": [
    "MODEL_CFG = 'e2e_mask_rcnn_X-101-64x4d-FPN_1x.yaml'\n",
    "PRETRAINED_MODEL_URL = 'https://dl.fbaipublicfiles.com/detectron/36494496/12_2017_baselines/e2e_mask_rcnn_X-101-64x4d-FPN_1x.yaml.07_50_11.fkwVtEvg/output/train/coco_2014_train%3Acoco_2014_valminusminival/generalized_rcnn/model_final.pkl'\n",
    "# X-152-32x8d-FPN-IN5k -> OUT OF MEMORY ON COLAB!\n",
    "# MODEL_CFG = 'e2e_mask_rcnn_X-152-32x8d-FPN-IN5k_1.44x.yaml'\n",
    "# PRETRAINED_MODEL_URL = 'https://dl.fbaipublicfiles.com/detectron/37129812/12_2017_baselines/e2e_mask_rcnn_X-152-32x8d-FPN-IN5k_1.44x.yaml.09_35_36.8pzTQKYK/output/train/coco_2014_train%3Acoco_2014_valminusminival/generalized_rcnn/model_final.pkl'\n",
    "\n",
    "!cd $project_name && python tools/infer_simple.py \\\n",
    "    --cfg configs/12_2017_baselines/$MODEL_CFG \\\n",
    "    --wts $PRETRAINED_MODEL_URL \\\n",
    "    --thresh 0.7 \\\n",
    "    --output-dir ../output/ --output-ext png --always-out \\\n",
    "    --image-ext $image_file_ext \\\n",
    "    ../$images_dir"
   ]
  },
  {
   "cell_type": "markdown",
   "metadata": {
    "id": "4QNvl-M5wGWq"
   },
   "source": [
    "Now visualize the result:"
   ]
  },
  {
   "cell_type": "code",
   "execution_count": null,
   "metadata": {
    "colab": {
     "base_uri": "https://localhost:8080/",
     "height": 560
    },
    "id": "gExDmnjK_pPs",
    "outputId": "78217426-2223-4e96-d588-42176747bf3f"
   },
   "outputs": [],
   "source": [
    "plt.figure(figsize=(50, 50))\n",
    "plt.imshow(matplotlib.image.imread('output/%s.png' % image_file))"
   ]
  }
 ],
 "metadata": {
  "accelerator": "GPU",
  "colab": {
   "collapsed_sections": [],
   "name": "Detectron_MaskRCNN.ipynb",
   "provenance": []
  },
  "kernelspec": {
   "display_name": "Python 3 (ipykernel)",
   "language": "python",
   "name": "python3"
  },
  "language_info": {
   "codemirror_mode": {
    "name": "ipython",
    "version": 3
   },
   "file_extension": ".py",
   "mimetype": "text/x-python",
   "name": "python",
   "nbconvert_exporter": "python",
   "pygments_lexer": "ipython3",
   "version": "3.7.9"
  }
 },
 "nbformat": 4,
 "nbformat_minor": 1
}
